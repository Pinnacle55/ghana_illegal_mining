{
 "cells": [
  {
   "cell_type": "code",
   "execution_count": 6,
   "id": "9f1624b7",
   "metadata": {},
   "outputs": [],
   "source": [
    "import rasterio as rio\n",
    "import numpy as np"
   ]
  },
  {
   "cell_type": "code",
   "execution_count": 8,
   "id": "3fdd44d1",
   "metadata": {},
   "outputs": [],
   "source": [
    "with rio.open('raw_data/ghana_2019_studyarea.tif', masked = True) as src:\n",
    "    data = src.read()\n",
    "    profile = src.profile"
   ]
  },
  {
   "cell_type": "code",
   "execution_count": 23,
   "id": "9cffe371",
   "metadata": {},
   "outputs": [
    {
     "data": {
      "text/plain": [
       "array([[1, 2, 2, 1, 1],\n",
       "       [1, 1, 2, 2, 2],\n",
       "       [2, 1, 1, 1, 2],\n",
       "       [2, 2, 2, 2, 1],\n",
       "       [1, 1, 1, 2, 2]])"
      ]
     },
     "execution_count": 23,
     "metadata": {},
     "output_type": "execute_result"
    }
   ],
   "source": [
    "import numpy as np\n",
    "from scipy.ndimage import generic_filter\n",
    "from scipy.signal import medfilt \n",
    "    \n",
    "#https://docs.scipy.org/doc/scipy/reference/generated/scipy.signal.medfilt.html\n",
    "def most_common_value(arr):\n",
    "    # Find the most common value in the neighborhood (excluding the central pixel)\n",
    "    values, counts = np.unique(arr, return_counts=True)\n",
    "    most_common_index = np.argmax(counts)\n",
    "    return values[most_common_index]\n",
    " \n",
    "# Your 2D array (example)\n",
    "# array_2d = np.array([[1, 2, 3, 4, 5],\n",
    "#                     [6, 7, 8, 9, 10],\n",
    "#                     [11, 12, 13, 14, 15],\n",
    "#                     [16, 17, 18, 19, 20],\n",
    "#                     [21, 22, 23, 24, 25]])\n",
    "\n",
    "original = np.random.randint(1,3, size = (5,5))\n",
    "\n",
    "original"
   ]
  },
  {
   "cell_type": "code",
   "execution_count": 24,
   "id": "d4e5f190",
   "metadata": {},
   "outputs": [
    {
     "data": {
      "text/plain": [
       "<matplotlib.image.AxesImage at 0x2502e2ffc50>"
      ]
     },
     "execution_count": 24,
     "metadata": {},
     "output_type": "execute_result"
    },
    {
     "data": {
      "image/png": "[encoded data removed]",
      "text/plain": [
       "<Figure size 640x480 with 1 Axes>"
      ]
     },
     "metadata": {},
     "output_type": "display_data"
    }
   ],
   "source": [
    "import matplotlib.pyplot as plt\n",
    "plt.imshow(original)"
   ]
  },
  {
   "cell_type": "code",
   "execution_count": 50,
   "id": "2568a5da",
   "metadata": {},
   "outputs": [
    {
     "data": {
      "text/plain": [
       "array([[0, 1, 1, 1, 0],\n",
       "       [1, 1, 1, 2, 1],\n",
       "       [1, 2, 2, 2, 1],\n",
       "       [1, 1, 1, 2, 1],\n",
       "       [0, 1, 1, 1, 0]])"
      ]
     },
     "execution_count": 50,
     "metadata": {},
     "output_type": "execute_result"
    },
    {
     "data": {
      "image/png": "[encoded data removed]",
      "text/plain": [
       "<Figure size 640x480 with 1 Axes>"
      ]
     },
     "metadata": {},
     "output_type": "display_data"
    }
   ],
   "source": [
    "# Size of the kernel (3x3 in this example)\n",
    "kernel_size = 3\n",
    " \n",
    "# Apply the custom filter to the array\n",
    "# result_array = generic_filter(original, most_common_value, size=kernel_size)\n",
    "\n",
    "result_array = medfilt(original, kernel_size=3)\n",
    " \n",
    "# print(\"Original array:\")\n",
    "# print(original)\n",
    "# print(\"\\nResult array:\")\n",
    "# print(result_array)\n",
    "\n",
    "plt.imshow(result_array)\n",
    "result_array"
   ]
  },
  {
   "cell_type": "code",
   "execution_count": 49,
   "id": "96d1f9f9",
   "metadata": {},
   "outputs": [
    {
     "data": {
      "text/plain": [
       "array([[1, 2, 2, 2, 1],\n",
       "       [1, 1, 1, 2, 2],\n",
       "       [2, 2, 2, 2, 2],\n",
       "       [2, 1, 1, 2, 2],\n",
       "       [1, 1, 2, 2, 2]])"
      ]
     },
     "execution_count": 49,
     "metadata": {},
     "output_type": "execute_result"
    },
    {
     "data": {
      "image/png": "[encoded data removed]",
      "text/plain": [
       "<Figure size 640x480 with 1 Axes>"
      ]
     },
     "metadata": {},
     "output_type": "display_data"
    }
   ],
   "source": [
    "from scipy.ndimage import median_filter\n",
    "\n",
    "result_array = median_filter(original, size=3)\n",
    " \n",
    "# print(\"Original array:\")\n",
    "# print(original)\n",
    "# print(\"\\nResult array:\")\n",
    "# print(result_array)\n",
    "\n",
    "plt.imshow(result_array)\n",
    "result_array"
   ]
  },
  {
   "cell_type": "code",
   "execution_count": 48,
   "id": "ed531039",
   "metadata": {},
   "outputs": [
    {
     "data": {
      "text/plain": [
       "array([[1, 1, 2, 2, 1],\n",
       "       [1, 1, 1, 2, 1],\n",
       "       [1, 2, 2, 2, 2],\n",
       "       [1, 1, 1, 2, 2],\n",
       "       [1, 1, 2, 2, 2]], dtype=uint8)"
      ]
     },
     "execution_count": 48,
     "metadata": {},
     "output_type": "execute_result"
    },
    {
     "data": {
      "image/png": "[encoded data removed]",
      "text/plain": [
       "<Figure size 640x480 with 1 Axes>"
      ]
     },
     "metadata": {},
     "output_type": "display_data"
    }
   ],
   "source": [
    "from skimage.filters.rank import modal\n",
    "from skimage.morphology import disk, ball, cube, rectangle\n",
    "\n",
    "result_array = modal(original, rectangle(3,3))\n",
    "\n",
    "plt.imshow(result_array)\n",
    "result_array"
   ]
  },
  {
   "cell_type": "code",
   "execution_count": 44,
   "id": "61d5f6c3",
   "metadata": {},
   "outputs": [
    {
     "data": {
      "text/plain": [
       "array([[1, 1, 2, 2, 1],\n",
       "       [1, 1, 1, 2, 1],\n",
       "       [1, 2, 2, 2, 2],\n",
       "       [1, 1, 1, 2, 2],\n",
       "       [1, 1, 2, 2, 2]], dtype=uint8)"
      ]
     },
     "execution_count": 44,
     "metadata": {},
     "output_type": "execute_result"
    }
   ],
   "source": []
  },
  {
   "cell_type": "code",
   "execution_count": 41,
   "id": "96180225",
   "metadata": {},
   "outputs": [
    {
     "data": {
      "text/plain": [
       "array([[1, 1, 1],\n",
       "       [1, 1, 1],\n",
       "       [1, 1, 1]], dtype=uint8)"
      ]
     },
     "execution_count": 41,
     "metadata": {},
     "output_type": "execute_result"
    }
   ],
   "source": [
    "# generates kernels\n",
    "from skimage.morphology import disk, ball, cube, rectangle\n",
    "\n",
    "# has the form name(size)\n",
    "rectangle(3,3)"
   ]
  },
  {
   "cell_type": "code",
   "execution_count": null,
   "id": "fc3a8ca8",
   "metadata": {},
   "outputs": [],
   "source": []
  }
 ],
 "metadata": {
  "kernelspec": {
   "display_name": "Python [conda env:gdal_new]",
   "language": "python",
   "name": "conda-env-gdal_new-py"
  },
  "language_info": {
   "codemirror_mode": {
    "name": "ipython",
    "version": 3
   },
   "file_extension": ".py",
   "mimetype": "text/x-python",
   "name": "python",
   "nbconvert_exporter": "python",
   "pygments_lexer": "ipython3",
   "version": "3.11.5"
  }
 },
 "nbformat": 4,
 "nbformat_minor": 5
}
