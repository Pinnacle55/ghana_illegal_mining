{
 "cells": [
  {
   "cell_type": "code",
   "execution_count": 35,
   "id": "463d8dd8",
   "metadata": {},
   "outputs": [
    {
     "data": {
      "text/plain": [
       "array([[[102, 179,  92,  14, 106],\n",
       "        [ 71, 188,  20, 102, 121],\n",
       "        [210, 214,  74, 202,  87]],\n",
       "\n",
       "       [[116,  99, 103, 151, 130],\n",
       "        [149,  52,   1,  87, 235],\n",
       "        [157,  37, 129, 191, 187]],\n",
       "\n",
       "       [[ 20, 160, 203,  57,  21],\n",
       "        [252, 235,  88,  48, 218],\n",
       "        [ 58, 254, 169, 219, 187]]])"
      ]
     },
     "execution_count": 35,
     "metadata": {},
     "output_type": "execute_result"
    }
   ],
   "source": [
    "import numpy as np\n",
    "\n",
    "# Set a random seed for reproducibility (optional)\n",
    "np.random.seed(42)\n",
    "\n",
    "image = np.random.randint(0, 255, size = (3,3,5))\n",
    "\n",
    "image"
   ]
  },
  {
   "cell_type": "code",
   "execution_count": 36,
   "id": "9f2be3f9",
   "metadata": {},
   "outputs": [
    {
     "data": {
      "text/plain": [
       "array([[['forest', 'crops', 'water', 'water', 'crops'],\n",
       "        ['water', 'crops', 'forest', 'crops', 'forest'],\n",
       "        ['forest', 'bare', 'crops', 'bare', 'crops']]], dtype='<U6')"
      ]
     },
     "execution_count": 36,
     "metadata": {},
     "output_type": "execute_result"
    }
   ],
   "source": [
    "landtype = ['bare', 'water', 'crops', 'forest']\n",
    "\n",
    "land_use = np.random.choice(landtype, size = (1, 3, 5))\n",
    "\n",
    "land_use"
   ]
  },
  {
   "cell_type": "code",
   "execution_count": 37,
   "id": "d9e2b687",
   "metadata": {},
   "outputs": [
    {
     "data": {
      "text/plain": [
       "array([[['102', '179', '92', '14', '106'],\n",
       "        ['71', '188', '20', '102', '121'],\n",
       "        ['210', '214', '74', '202', '87']],\n",
       "\n",
       "       [['116', '99', '103', '151', '130'],\n",
       "        ['149', '52', '1', '87', '235'],\n",
       "        ['157', '37', '129', '191', '187']],\n",
       "\n",
       "       [['20', '160', '203', '57', '21'],\n",
       "        ['252', '235', '88', '48', '218'],\n",
       "        ['58', '254', '169', '219', '187']],\n",
       "\n",
       "       [['forest', 'crops', 'water', 'water', 'crops'],\n",
       "        ['water', 'crops', 'forest', 'crops', 'forest'],\n",
       "        ['forest', 'bare', 'crops', 'bare', 'crops']]], dtype='<U11')"
      ]
     },
     "execution_count": 37,
     "metadata": {},
     "output_type": "execute_result"
    }
   ],
   "source": [
    "# vstack puts the land_use image at the bottom\n",
    "# in rioxarray this is accomplished using xr.concat()\n",
    "full_array = np.vstack([image, land_use])\n",
    "\n",
    "full_array"
   ]
  },
  {
   "cell_type": "code",
   "execution_count": 50,
   "id": "9dcf41d1",
   "metadata": {},
   "outputs": [
    {
     "data": {
      "text/plain": [
       "array([['102', '116', '20', 'forest'],\n",
       "       ['179', '99', '160', 'crops'],\n",
       "       ['92', '103', '203', 'water'],\n",
       "       ['14', '151', '57', 'water'],\n",
       "       ['106', '130', '21', 'crops'],\n",
       "       ['71', '149', '252', 'water'],\n",
       "       ['188', '52', '235', 'crops'],\n",
       "       ['20', '1', '88', 'forest'],\n",
       "       ['102', '87', '48', 'crops'],\n",
       "       ['121', '235', '218', 'forest'],\n",
       "       ['210', '157', '58', 'forest'],\n",
       "       ['214', '37', '254', 'bare'],\n",
       "       ['74', '129', '169', 'crops'],\n",
       "       ['202', '191', '219', 'bare'],\n",
       "       ['87', '187', '187', 'crops']], dtype='<U11')"
      ]
     },
     "execution_count": 50,
     "metadata": {},
     "output_type": "execute_result"
    }
   ],
   "source": [
    "from rasterio.plot import reshape_as_image, reshape_as_raster\n",
    "\n",
    "# change from band, x, y to x, y, band\n",
    "# then reshape into z columns, where z is the number of bands\n",
    "image_array = reshape_as_image(full_array)\n",
    "\n",
    "# convert all pixels to rows\n",
    "ml_prep_array = image_array.reshape(-1, full_array.shape[0])\n",
    "\n",
    "ml_prep_array"
   ]
  },
  {
   "cell_type": "code",
   "execution_count": 41,
   "id": "415c29b5",
   "metadata": {},
   "outputs": [
    {
     "data": {
      "text/plain": [
       "(array([['102', '116', '20'],\n",
       "        ['179', '99', '160'],\n",
       "        ['92', '103', '203'],\n",
       "        ['14', '151', '57'],\n",
       "        ['106', '130', '21'],\n",
       "        ['71', '149', '252'],\n",
       "        ['188', '52', '235'],\n",
       "        ['20', '1', '88'],\n",
       "        ['102', '87', '48'],\n",
       "        ['121', '235', '218'],\n",
       "        ['210', '157', '58'],\n",
       "        ['214', '37', '254'],\n",
       "        ['74', '129', '169'],\n",
       "        ['202', '191', '219'],\n",
       "        ['87', '187', '187']], dtype='<U11'),\n",
       " array(['forest', 'crops', 'water', 'water', 'crops', 'water', 'crops',\n",
       "        'forest', 'crops', 'forest', 'forest', 'bare', 'crops', 'bare',\n",
       "        'crops'], dtype='<U11'))"
      ]
     },
     "execution_count": 41,
     "metadata": {},
     "output_type": "execute_result"
    }
   ],
   "source": [
    "# convert to X_train/y_train\n",
    "X_train = ml_prep_array[:, :-1]\n",
    "y_train = ml_prep_array[:, -1]\n",
    "\n",
    "X_train, y_train"
   ]
  },
  {
   "cell_type": "code",
   "execution_count": 42,
   "id": "4da6962e",
   "metadata": {},
   "outputs": [
    {
     "data": {
      "text/plain": [
       "array(['crops', 'bare', 'bare', 'crops', 'water', 'forest', 'bare',\n",
       "       'forest', 'water', 'water', 'water', 'bare', 'water', 'bare',\n",
       "       'water'], dtype='<U6')"
      ]
     },
     "execution_count": 42,
     "metadata": {},
     "output_type": "execute_result"
    }
   ],
   "source": [
    "y_pred = np.random.choice(landtype, size = X_train.shape[0])\n",
    "\n",
    "y_pred"
   ]
  },
  {
   "cell_type": "code",
   "execution_count": 43,
   "id": "f86b206b",
   "metadata": {},
   "outputs": [
    {
     "data": {
      "text/plain": [
       "array([['102', '116', '20', 'crops'],\n",
       "       ['179', '99', '160', 'bare'],\n",
       "       ['92', '103', '203', 'bare'],\n",
       "       ['14', '151', '57', 'crops'],\n",
       "       ['106', '130', '21', 'water'],\n",
       "       ['71', '149', '252', 'forest'],\n",
       "       ['188', '52', '235', 'bare'],\n",
       "       ['20', '1', '88', 'forest'],\n",
       "       ['102', '87', '48', 'water'],\n",
       "       ['121', '235', '218', 'water'],\n",
       "       ['210', '157', '58', 'water'],\n",
       "       ['214', '37', '254', 'bare'],\n",
       "       ['74', '129', '169', 'water'],\n",
       "       ['202', '191', '219', 'bare'],\n",
       "       ['87', '187', '187', 'water']], dtype='<U11')"
      ]
     },
     "execution_count": 43,
     "metadata": {},
     "output_type": "execute_result"
    }
   ],
   "source": [
    "# works, quick way of combining arrays length-wise\n",
    "classified_image = np.c_[X_train, y_pred]\n",
    "\n",
    "classified_image"
   ]
  },
  {
   "cell_type": "code",
   "execution_count": 53,
   "id": "04192c69",
   "metadata": {},
   "outputs": [
    {
     "data": {
      "text/plain": [
       "array([[['102', '116', '20', 'crops'],\n",
       "        ['179', '99', '160', 'bare'],\n",
       "        ['92', '103', '203', 'bare'],\n",
       "        ['14', '151', '57', 'crops'],\n",
       "        ['106', '130', '21', 'water']],\n",
       "\n",
       "       [['71', '149', '252', 'forest'],\n",
       "        ['188', '52', '235', 'bare'],\n",
       "        ['20', '1', '88', 'forest'],\n",
       "        ['102', '87', '48', 'water'],\n",
       "        ['121', '235', '218', 'water']],\n",
       "\n",
       "       [['210', '157', '58', 'water'],\n",
       "        ['214', '37', '254', 'bare'],\n",
       "        ['74', '129', '169', 'water'],\n",
       "        ['202', '191', '219', 'bare'],\n",
       "        ['87', '187', '187', 'water']]], dtype='<U11')"
      ]
     },
     "execution_count": 53,
     "metadata": {},
     "output_type": "execute_result"
    }
   ],
   "source": [
    "# need to remember shape of initial image if you want to get it back\n",
    "\n",
    "pred_image = classified_image.reshape(image.shape[1], image.shape[2], -1)\n",
    "\n",
    "pred_image"
   ]
  },
  {
   "cell_type": "code",
   "execution_count": 54,
   "id": "ac0d2424",
   "metadata": {},
   "outputs": [
    {
     "data": {
      "text/plain": [
       "array([[['102', '179', '92', '14', '106'],\n",
       "        ['71', '188', '20', '102', '121'],\n",
       "        ['210', '214', '74', '202', '87']],\n",
       "\n",
       "       [['116', '99', '103', '151', '130'],\n",
       "        ['149', '52', '1', '87', '235'],\n",
       "        ['157', '37', '129', '191', '187']],\n",
       "\n",
       "       [['20', '160', '203', '57', '21'],\n",
       "        ['252', '235', '88', '48', '218'],\n",
       "        ['58', '254', '169', '219', '187']],\n",
       "\n",
       "       [['crops', 'bare', 'bare', 'crops', 'water'],\n",
       "        ['forest', 'bare', 'forest', 'water', 'water'],\n",
       "        ['water', 'bare', 'water', 'bare', 'water']]], dtype='<U11')"
      ]
     },
     "execution_count": 54,
     "metadata": {},
     "output_type": "execute_result"
    }
   ],
   "source": [
    "# we got back to original image with new predicted values\n",
    "reshape_as_raster(pred_image)"
   ]
  },
  {
   "cell_type": "code",
   "execution_count": null,
   "id": "feb8f300",
   "metadata": {},
   "outputs": [],
   "source": []
  }
 ],
 "metadata": {
  "kernelspec": {
   "display_name": "Python [conda env:gdal_new]",
   "language": "python",
   "name": "conda-env-gdal_new-py"
  },
  "language_info": {
   "codemirror_mode": {
    "name": "ipython",
    "version": 3
   },
   "file_extension": ".py",
   "mimetype": "text/x-python",
   "name": "python",
   "nbconvert_exporter": "python",
   "pygments_lexer": "ipython3",
   "version": "3.11.5"
  }
 },
 "nbformat": 4,
 "nbformat_minor": 5
}
