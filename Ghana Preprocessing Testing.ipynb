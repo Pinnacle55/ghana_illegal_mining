{
 "cells": [
  {
   "cell_type": "markdown",
   "id": "0f29a41a",
   "metadata": {},
   "source": [
    "# Preprocessing\n",
    "\n",
    "We add spectral indices and VV/VH ratio to the dataset for training.\n",
    "\n",
    "Various scripts for spectral indices can be found here: \n",
    "https://custom-scripts.sentinel-hub.com/custom-scripts/sentinel/sentinel-2/"
   ]
  },
  {
   "cell_type": "code",
   "execution_count": null,
   "id": "7e0134a8",
   "metadata": {},
   "outputs": [],
   "source": [
    "import rioxarray as rxr\n",
    "import geopandas as gpd\n",
    "import matplotlib.pyplot as plt\n",
    "import earthpy.plot as ep\n",
    "import earthpy.spatial as es\n",
    "import xarray as xr\n",
    "import numpy as np\n",
    "\n",
    "def norm_diff(b1, b2):\n",
    "    return (b1 - b2) / (b1 + b2)"
   ]
  },
  {
   "cell_type": "code",
   "execution_count": null,
   "id": "52be4fcd",
   "metadata": {},
   "outputs": [],
   "source": [
    "## Define function that prepares all of the bands\n",
    "\n",
    "year_dict = {\n",
    "    '2019': 0,\n",
    "    '2020': 1,\n",
    "    '2021': 2,\n",
    "    '2022': 3,\n",
    "}\n",
    "\n",
    "def process_year(year):\n",
    "    '''\n",
    "    Param year: The year that will be processed.\n",
    "    \n",
    "    Returns: Geotiff in the outputs folder - ghana_prepped_{year}.tif\n",
    "    Contains all sentinel bands 1-8, 8a, 9, 11, 12\n",
    "    Contains NDVI, MNDWI, BSI\n",
    "    Contains VV, VH, and 1 - (VV/(VV+VH))\n",
    "    '''\n",
    "    \n",
    "    # Get spectral data\n",
    "    ds = rxr.open_rasterio(f'raw_data/ghana_{year}_studyarea.tif', masked = True)\n",
    "\n",
    "    # Get Radar data\n",
    "    with rxr.open_rasterio('raw_data/ghana_VV_collection.tif', masked = True) as vv:\n",
    "        vv_ds = vv[year_dict[year]]\n",
    "\n",
    "    with rxr.open_rasterio('raw_data/ghana_VH_collection.tif', masked = True) as vh:\n",
    "        vh_ds = vh[year_dict[year]]\n",
    "        \n",
    "    # norm_diff NIR/Red\n",
    "    ndvi = norm_diff(ds[4], ds[3])\n",
    "\n",
    "    # norm_diff Green/SWIR\n",
    "    mndwi = norm_diff(ds[2], ds[10])\n",
    "\n",
    "    # BSI = ((B11 + B04) - (B08 + B02)) / ((B11 + B04) + (B08 + B02))\n",
    "    # from https://custom-scripts.sentinel-hub.com/custom-scripts/sentinel-2/barren_soil/\n",
    "    bsi = 2.5 * norm_diff((ds[10] + ds[3]), (ds[6] + ds[1]))\n",
    "    \n",
    "    # Create m\n",
    "    dop = vv_ds / (vv_ds + vh_ds)\n",
    "    m = 1 - dop\n",
    "    \n",
    "    # Clip m to remove extreme outliers - may wish to remove this step in some cases\n",
    "    modified_m = m.where(m > np.percentile(m, 0.1), np.percentile(m, 0.1))\n",
    "    modified_m = modified_m.where(m < np.percentile(m, 99.9), np.percentile(m, 99.9))\n",
    "    \n",
    "    # Create final_output xarray\n",
    "    # Note that we add band coords to the spectral indices and remove SCL band from sentinel data\n",
    "    final_output = xr.concat([ds[:-1] / 10000, ndvi.assign_coords({'band': 1}), \n",
    "                              mndwi.assign_coords({'band': 1}), \n",
    "                              bsi.assign_coords({'band': 1}), \n",
    "                              vv_ds, vh_ds, modified_m], dim = 'band')\n",
    "    \n",
    "    final_output.rio.set_nodata(np.nan)\n",
    "    final_output.rio.to_raster(f'outputs/ghana_prepped_{year}.tif')"
   ]
  },
  {
   "cell_type": "code",
   "execution_count": null,
   "id": "e1f57285",
   "metadata": {},
   "outputs": [],
   "source": [
    "%%time\n",
    "process_year('2019')"
   ]
  },
  {
   "cell_type": "code",
   "execution_count": null,
   "id": "37e0167d",
   "metadata": {},
   "outputs": [],
   "source": [
    "ds = rxr.open_rasterio('raw_data/ghana_2019_studyarea.tif', masked = True)\n",
    "\n",
    "# Note that sentinel-1 data is already preprocessed\n",
    "# Terrain correction using SRTM 30 or ASTER DEM for areas greater than 60 degrees latitude, where SRTM is not available. \n",
    "# The final terrain corrected values are converted to decibels via log scaling (10*log10(x).\n",
    "# In other words, VV and VH are already log scaled\n",
    "with rxr.open_rasterio('raw_data/ghana_VV_collection.tif', masked = True) as vv:\n",
    "    vv_ds = vv[0]\n",
    "    \n",
    "with rxr.open_rasterio('raw_data/ghana_VH_collection.tif', masked = True) as vh:\n",
    "    vh_ds = vh[0]"
   ]
  },
  {
   "cell_type": "code",
   "execution_count": null,
   "id": "6bf5b017",
   "metadata": {},
   "outputs": [],
   "source": [
    "ds"
   ]
  },
  {
   "cell_type": "code",
   "execution_count": null,
   "id": "bb49fea8",
   "metadata": {},
   "outputs": [],
   "source": [
    "ds = ds[:-1]/10000\n",
    "\n",
    "ds"
   ]
  },
  {
   "cell_type": "code",
   "execution_count": null,
   "id": "e360a8ac",
   "metadata": {},
   "outputs": [],
   "source": [
    "# Create spectral indices\n",
    "# norm_diff NIR/Red\n",
    "ndvi = norm_diff(ds[4], ds[3])\n",
    "\n",
    "# norm_diff Green/SWIR\n",
    "mndwi = norm_diff(ds[2], ds[10])\n",
    "\n",
    "# BSI = ((B11 + B04) - (B08 + B02)) / ((B11 + B04) + (B08 + B02))\n",
    "# from https://custom-scripts.sentinel-hub.com/custom-scripts/sentinel-2/barren_soil/\n",
    "bsi = 2.5 * norm_diff((ds[10] + ds[3]), (ds[6] + ds[1]))\n",
    "\n",
    "# # Normalized Difference Built-Up Index computed as SWIR(Band11)-NIR(Band8)/ SWIR(Band11)+NIR(Band8)\n",
    "# Note that NDBI is very similar to BSI - difficult to distinguish between bare soil and urban areas in many settings\n",
    "# ndbi = norm_diff(ds[10], ds[7])\n",
    "\n",
    "ep.plot_bands(bsi, cmap = \"RdYlGn\")"
   ]
  },
  {
   "cell_type": "code",
   "execution_count": null,
   "id": "73179248",
   "metadata": {},
   "outputs": [],
   "source": [
    "# TCC\n",
    "ep.plot_rgb(ds.data, rgb = (3,2,1), stretch = True)"
   ]
  },
  {
   "cell_type": "markdown",
   "id": "a60093dd",
   "metadata": {},
   "source": [
    "## Radar\n",
    "\n",
    "Getting weird results that don't appear to map to correct land use classes. Probably just use VH, VS, and the m, which is related to the relative proportion fo VV to total power. Note that m can have very high and very low values - clip those to 0.1 and 99.9 percentile values."
   ]
  },
  {
   "cell_type": "code",
   "execution_count": null,
   "id": "82f0d8ec",
   "metadata": {},
   "outputs": [],
   "source": [
    "# Radar has been used to track vegetation\n",
    "# This is a good example of a basic script using VV and VH\n",
    "# https://custom-scripts.sentinel-hub.com/sentinel-1/radar_vegetation_index/\n",
    "dop = vv_ds / (vv_ds + vh_ds)\n",
    "\n",
    "# m ranges between 0 and 1, where 0 is urban and 1 is canopy\n",
    "# however, this is only for pure areas - in cases where there is rough ground (e.g., soil after tillage or rough water)\n",
    "# then this can give fradulent results. Consequently, need to multiply by vegetation depolarization power fraction\n",
    "m = 1 - dop\n",
    "\n",
    "rvi = np.sqrt(m) * (4 * vh_ds) / (vv_ds + vh_ds)\n",
    "\n",
    "ep.plot_bands(m, cmap = \"RdYlGn\", vmin = 0.5, vmax = 1)"
   ]
  },
  {
   "cell_type": "code",
   "execution_count": null,
   "id": "3b5b7520",
   "metadata": {},
   "outputs": [],
   "source": [
    "print(np.percentile(m, 0.1))\n",
    "print(np.percentile(m, 99.9))"
   ]
  },
  {
   "cell_type": "code",
   "execution_count": null,
   "id": "5b098974",
   "metadata": {},
   "outputs": [],
   "source": [
    "# Looks good, but very strongly associated with DEM\n",
    "modified_m = m.where(m > np.percentile(m, 0.1), np.percentile(m, 0.1))\n",
    "modified_m = modified_m.where(m < np.percentile(m, 99.9), np.percentile(m, 99.9))\n",
    "\n",
    "ep.plot_bands(modified_m)"
   ]
  },
  {
   "cell_type": "code",
   "execution_count": null,
   "id": "ed6dce70",
   "metadata": {},
   "outputs": [],
   "source": [
    "# # Testing\n",
    "# test = xr.concat([ds, ndvi.assign_coords({'band': 1}), mndwi.assign_coords({'band': 1}), bsi.assign_coords({'band': 1}), vv_ds, vh_ds, modified_m], dim = 'band')\n",
    "# test.rio.set_nodata(np.nan)\n",
    "# test.rio.to_raster('outputs/test.tif')"
   ]
  },
  {
   "cell_type": "code",
   "execution_count": null,
   "id": "75e4ea87",
   "metadata": {},
   "outputs": [],
   "source": [
    "# # Working\n",
    "# test_ds = rxr.open_rasterio('outputs/test.tif', masked = True)\n",
    "\n",
    "# ep.plot_rgb(test_ds.data, rgb = (3,2,1), stretch = True)"
   ]
  },
  {
   "cell_type": "code",
   "execution_count": null,
   "id": "4eb3a986",
   "metadata": {},
   "outputs": [],
   "source": [
    "ds"
   ]
  },
  {
   "cell_type": "code",
   "execution_count": null,
   "id": "98b10060",
   "metadata": {},
   "outputs": [],
   "source": []
  }
 ],
 "metadata": {
  "kernelspec": {
   "display_name": "Python [conda env:gdal]",
   "language": "python",
   "name": "conda-env-gdal-py"
  },
  "language_info": {
   "codemirror_mode": {
    "name": "ipython",
    "version": 3
   },
   "file_extension": ".py",
   "mimetype": "text/x-python",
   "name": "python",
   "nbconvert_exporter": "python",
   "pygments_lexer": "ipython3",
   "version": "3.11.5"
  }
 },
 "nbformat": 4,
 "nbformat_minor": 5
}
